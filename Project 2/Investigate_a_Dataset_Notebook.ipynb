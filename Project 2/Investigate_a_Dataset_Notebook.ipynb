{
 "cells": [
  {
   "cell_type": "markdown",
   "metadata": {},
   "source": [
    "# Project: No-Show Medical Appointments Data Analysis\n",
    "\n",
    "## Table of Contents\n",
    "<ul>\n",
    "<li><a href=\"#intro\">Introduction</a></li>\n",
    "<li><a href=\"#wrangling\">Data Wrangling</a></li>\n",
    "<li><a href=\"#eda\">Exploratory Data Analysis</a></li>\n",
    "<li><a href=\"#conclusions\">Conclusions</a></li>\n",
    "</ul>"
   ]
  },
  {
   "cell_type": "markdown",
   "metadata": {},
   "source": [
    "<a id='intro'></a>\n",
    "## Introduction\n",
    "\n",
    "In this project, we will be analyzing the data collected from more than a 100k medical appointments in Brazil. This dataset mainly shows if the patients show up to the appointments they book or if they miss those appointments. We're interested in finding common trends between patients that show-up or miss their appointment and which characteristics does each group have in common in addition to the factors that might influence their attendance.  \n",
    "\n",
    "Examples of questions that we'll try to answer throughout the report:  \n",
    "1- Is age related to showing up to the appointment?  \n",
    "2- Are females more likely to show up to their medical appointments? Or are males showing up more?  \n",
    "3- Is being part of the welfare program a characteristic that is common with patients that show up or miss their appointments?  \n",
    "4- If a patient receieves an SMS, would it help them show up to the appointment?  \n",
    "5- What's the relationship between suffering from chronic illnesses and showing up to medical appointments?  \n",
    "\n",
    "We'll start by importing the needed Python libraries for this analysis.\n"
   ]
  },
  {
   "cell_type": "code",
   "execution_count": 73,
   "metadata": {},
   "outputs": [],
   "source": [
    "import pandas as pd\n",
    "import numpy as np\n",
    "import matplotlib.pyplot as plt\n",
    "import seaborn as sns\n",
    "from datetime import datetime as dt\n",
    "\n",
    "% matplotlib inline"
   ]
  },
  {
   "cell_type": "markdown",
   "metadata": {},
   "source": [
    "<a id='wrangling'></a>\n",
    "## Data Wrangling\n",
    "\n",
    "In this section, we import the dataset into a Pandas Dataframe that we called 'df' and print the first few rows to understand the structure, inspect the data types, any missing values, data errors and search for ways to improve and prepare the dataset for analysis.\n",
    "\n",
    "### General Properties"
   ]
  },
  {
   "cell_type": "code",
   "execution_count": 74,
   "metadata": {},
   "outputs": [
    {
     "data": {
      "text/plain": [
       "(110527, 14)"
      ]
     },
     "execution_count": 74,
     "metadata": {},
     "output_type": "execute_result"
    }
   ],
   "source": [
    "#reading the dataset\n",
    "df = pd.read_csv('noshowappointments-kagglev2-may-2016.csv')\n",
    "df.shape"
   ]
  },
  {
   "cell_type": "code",
   "execution_count": 75,
   "metadata": {},
   "outputs": [
    {
     "data": {
      "text/html": [
       "<div>\n",
       "<style scoped>\n",
       "    .dataframe tbody tr th:only-of-type {\n",
       "        vertical-align: middle;\n",
       "    }\n",
       "\n",
       "    .dataframe tbody tr th {\n",
       "        vertical-align: top;\n",
       "    }\n",
       "\n",
       "    .dataframe thead th {\n",
       "        text-align: right;\n",
       "    }\n",
       "</style>\n",
       "<table border=\"1\" class=\"dataframe\">\n",
       "  <thead>\n",
       "    <tr style=\"text-align: right;\">\n",
       "      <th></th>\n",
       "      <th>PatientId</th>\n",
       "      <th>AppointmentID</th>\n",
       "      <th>Gender</th>\n",
       "      <th>ScheduledDay</th>\n",
       "      <th>AppointmentDay</th>\n",
       "      <th>Age</th>\n",
       "      <th>Neighbourhood</th>\n",
       "      <th>Scholarship</th>\n",
       "      <th>Hipertension</th>\n",
       "      <th>Diabetes</th>\n",
       "      <th>Alcoholism</th>\n",
       "      <th>Handcap</th>\n",
       "      <th>SMS_received</th>\n",
       "      <th>No-show</th>\n",
       "    </tr>\n",
       "  </thead>\n",
       "  <tbody>\n",
       "    <tr>\n",
       "      <th>0</th>\n",
       "      <td>2.987250e+13</td>\n",
       "      <td>5642903</td>\n",
       "      <td>F</td>\n",
       "      <td>2016-04-29T18:38:08Z</td>\n",
       "      <td>2016-04-29T00:00:00Z</td>\n",
       "      <td>62</td>\n",
       "      <td>JARDIM DA PENHA</td>\n",
       "      <td>0</td>\n",
       "      <td>1</td>\n",
       "      <td>0</td>\n",
       "      <td>0</td>\n",
       "      <td>0</td>\n",
       "      <td>0</td>\n",
       "      <td>No</td>\n",
       "    </tr>\n",
       "    <tr>\n",
       "      <th>1</th>\n",
       "      <td>5.589978e+14</td>\n",
       "      <td>5642503</td>\n",
       "      <td>M</td>\n",
       "      <td>2016-04-29T16:08:27Z</td>\n",
       "      <td>2016-04-29T00:00:00Z</td>\n",
       "      <td>56</td>\n",
       "      <td>JARDIM DA PENHA</td>\n",
       "      <td>0</td>\n",
       "      <td>0</td>\n",
       "      <td>0</td>\n",
       "      <td>0</td>\n",
       "      <td>0</td>\n",
       "      <td>0</td>\n",
       "      <td>No</td>\n",
       "    </tr>\n",
       "    <tr>\n",
       "      <th>2</th>\n",
       "      <td>4.262962e+12</td>\n",
       "      <td>5642549</td>\n",
       "      <td>F</td>\n",
       "      <td>2016-04-29T16:19:04Z</td>\n",
       "      <td>2016-04-29T00:00:00Z</td>\n",
       "      <td>62</td>\n",
       "      <td>MATA DA PRAIA</td>\n",
       "      <td>0</td>\n",
       "      <td>0</td>\n",
       "      <td>0</td>\n",
       "      <td>0</td>\n",
       "      <td>0</td>\n",
       "      <td>0</td>\n",
       "      <td>No</td>\n",
       "    </tr>\n",
       "    <tr>\n",
       "      <th>3</th>\n",
       "      <td>8.679512e+11</td>\n",
       "      <td>5642828</td>\n",
       "      <td>F</td>\n",
       "      <td>2016-04-29T17:29:31Z</td>\n",
       "      <td>2016-04-29T00:00:00Z</td>\n",
       "      <td>8</td>\n",
       "      <td>PONTAL DE CAMBURI</td>\n",
       "      <td>0</td>\n",
       "      <td>0</td>\n",
       "      <td>0</td>\n",
       "      <td>0</td>\n",
       "      <td>0</td>\n",
       "      <td>0</td>\n",
       "      <td>No</td>\n",
       "    </tr>\n",
       "    <tr>\n",
       "      <th>4</th>\n",
       "      <td>8.841186e+12</td>\n",
       "      <td>5642494</td>\n",
       "      <td>F</td>\n",
       "      <td>2016-04-29T16:07:23Z</td>\n",
       "      <td>2016-04-29T00:00:00Z</td>\n",
       "      <td>56</td>\n",
       "      <td>JARDIM DA PENHA</td>\n",
       "      <td>0</td>\n",
       "      <td>1</td>\n",
       "      <td>1</td>\n",
       "      <td>0</td>\n",
       "      <td>0</td>\n",
       "      <td>0</td>\n",
       "      <td>No</td>\n",
       "    </tr>\n",
       "    <tr>\n",
       "      <th>5</th>\n",
       "      <td>9.598513e+13</td>\n",
       "      <td>5626772</td>\n",
       "      <td>F</td>\n",
       "      <td>2016-04-27T08:36:51Z</td>\n",
       "      <td>2016-04-29T00:00:00Z</td>\n",
       "      <td>76</td>\n",
       "      <td>REPÚBLICA</td>\n",
       "      <td>0</td>\n",
       "      <td>1</td>\n",
       "      <td>0</td>\n",
       "      <td>0</td>\n",
       "      <td>0</td>\n",
       "      <td>0</td>\n",
       "      <td>No</td>\n",
       "    </tr>\n",
       "    <tr>\n",
       "      <th>6</th>\n",
       "      <td>7.336882e+14</td>\n",
       "      <td>5630279</td>\n",
       "      <td>F</td>\n",
       "      <td>2016-04-27T15:05:12Z</td>\n",
       "      <td>2016-04-29T00:00:00Z</td>\n",
       "      <td>23</td>\n",
       "      <td>GOIABEIRAS</td>\n",
       "      <td>0</td>\n",
       "      <td>0</td>\n",
       "      <td>0</td>\n",
       "      <td>0</td>\n",
       "      <td>0</td>\n",
       "      <td>0</td>\n",
       "      <td>Yes</td>\n",
       "    </tr>\n",
       "    <tr>\n",
       "      <th>7</th>\n",
       "      <td>3.449833e+12</td>\n",
       "      <td>5630575</td>\n",
       "      <td>F</td>\n",
       "      <td>2016-04-27T15:39:58Z</td>\n",
       "      <td>2016-04-29T00:00:00Z</td>\n",
       "      <td>39</td>\n",
       "      <td>GOIABEIRAS</td>\n",
       "      <td>0</td>\n",
       "      <td>0</td>\n",
       "      <td>0</td>\n",
       "      <td>0</td>\n",
       "      <td>0</td>\n",
       "      <td>0</td>\n",
       "      <td>Yes</td>\n",
       "    </tr>\n",
       "    <tr>\n",
       "      <th>8</th>\n",
       "      <td>5.639473e+13</td>\n",
       "      <td>5638447</td>\n",
       "      <td>F</td>\n",
       "      <td>2016-04-29T08:02:16Z</td>\n",
       "      <td>2016-04-29T00:00:00Z</td>\n",
       "      <td>21</td>\n",
       "      <td>ANDORINHAS</td>\n",
       "      <td>0</td>\n",
       "      <td>0</td>\n",
       "      <td>0</td>\n",
       "      <td>0</td>\n",
       "      <td>0</td>\n",
       "      <td>0</td>\n",
       "      <td>No</td>\n",
       "    </tr>\n",
       "    <tr>\n",
       "      <th>9</th>\n",
       "      <td>7.812456e+13</td>\n",
       "      <td>5629123</td>\n",
       "      <td>F</td>\n",
       "      <td>2016-04-27T12:48:25Z</td>\n",
       "      <td>2016-04-29T00:00:00Z</td>\n",
       "      <td>19</td>\n",
       "      <td>CONQUISTA</td>\n",
       "      <td>0</td>\n",
       "      <td>0</td>\n",
       "      <td>0</td>\n",
       "      <td>0</td>\n",
       "      <td>0</td>\n",
       "      <td>0</td>\n",
       "      <td>No</td>\n",
       "    </tr>\n",
       "  </tbody>\n",
       "</table>\n",
       "</div>"
      ],
      "text/plain": [
       "      PatientId  AppointmentID Gender          ScheduledDay  \\\n",
       "0  2.987250e+13        5642903      F  2016-04-29T18:38:08Z   \n",
       "1  5.589978e+14        5642503      M  2016-04-29T16:08:27Z   \n",
       "2  4.262962e+12        5642549      F  2016-04-29T16:19:04Z   \n",
       "3  8.679512e+11        5642828      F  2016-04-29T17:29:31Z   \n",
       "4  8.841186e+12        5642494      F  2016-04-29T16:07:23Z   \n",
       "5  9.598513e+13        5626772      F  2016-04-27T08:36:51Z   \n",
       "6  7.336882e+14        5630279      F  2016-04-27T15:05:12Z   \n",
       "7  3.449833e+12        5630575      F  2016-04-27T15:39:58Z   \n",
       "8  5.639473e+13        5638447      F  2016-04-29T08:02:16Z   \n",
       "9  7.812456e+13        5629123      F  2016-04-27T12:48:25Z   \n",
       "\n",
       "         AppointmentDay  Age      Neighbourhood  Scholarship  Hipertension  \\\n",
       "0  2016-04-29T00:00:00Z   62    JARDIM DA PENHA            0             1   \n",
       "1  2016-04-29T00:00:00Z   56    JARDIM DA PENHA            0             0   \n",
       "2  2016-04-29T00:00:00Z   62      MATA DA PRAIA            0             0   \n",
       "3  2016-04-29T00:00:00Z    8  PONTAL DE CAMBURI            0             0   \n",
       "4  2016-04-29T00:00:00Z   56    JARDIM DA PENHA            0             1   \n",
       "5  2016-04-29T00:00:00Z   76          REPÚBLICA            0             1   \n",
       "6  2016-04-29T00:00:00Z   23         GOIABEIRAS            0             0   \n",
       "7  2016-04-29T00:00:00Z   39         GOIABEIRAS            0             0   \n",
       "8  2016-04-29T00:00:00Z   21         ANDORINHAS            0             0   \n",
       "9  2016-04-29T00:00:00Z   19          CONQUISTA            0             0   \n",
       "\n",
       "   Diabetes  Alcoholism  Handcap  SMS_received No-show  \n",
       "0         0           0        0             0      No  \n",
       "1         0           0        0             0      No  \n",
       "2         0           0        0             0      No  \n",
       "3         0           0        0             0      No  \n",
       "4         1           0        0             0      No  \n",
       "5         0           0        0             0      No  \n",
       "6         0           0        0             0     Yes  \n",
       "7         0           0        0             0     Yes  \n",
       "8         0           0        0             0      No  \n",
       "9         0           0        0             0      No  "
      ]
     },
     "execution_count": 75,
     "metadata": {},
     "output_type": "execute_result"
    }
   ],
   "source": [
    "df.head(10)"
   ]
  },
  {
   "cell_type": "markdown",
   "metadata": {},
   "source": [
    "As shown above, the dataset has as total of 110527 rows and 14 columns. Each row represents one appointment.  \n",
    "  \n",
    "Characteristics for each patient include the below:  \n",
    "  \n",
    "1- **Patient ID:** Unique identifier for the patient. In this dataset, one patient can have more than one appointment  \n",
    "2- **Appointment ID:** Unique identifier for the appointment booked for the patient  \n",
    "3- **Gender:** Male or Female  \n",
    "4- **Scheduled Day:** This column tells us which day the patient set up the appointment  \n",
    "5- **Appointment Day:** The date of the appointment itself  \n",
    "6- **Age:** Patient's age  \n",
    "7- **Neighbourhood:** Location of the hospital  \n",
    "8- **Scholarship:** Flag that indicates if the patient is enrolled in Brasilian welfare program  \n",
    "9- **Hypertension:** Flag to indicate if the patient suffers from hypertension  \n",
    "10- **Diabetes:** Flag to indicate if the patient suffers from diabetes  \n",
    "11- **Alcoholism:** Flag to indicate if the patient is alcoholic  \n",
    "12- **Handicap:** Flag to indicate if the patient is handicapped  \n",
    "13- **SMS Recieved:** Flag to indicate if the patient recieved an SMS  \n",
    "14- **No-show:** Flag to indicate if the patient did not show up to the appointment. The value is **No** if the patient showed up to the appointment and **Yes** if the patient did not show up. This is the only flag with string values, all the previous columns are flagged with 0s and 1s"
   ]
  },
  {
   "cell_type": "code",
   "execution_count": 76,
   "metadata": {},
   "outputs": [
    {
     "name": "stdout",
     "output_type": "stream",
     "text": [
      "<class 'pandas.core.frame.DataFrame'>\n",
      "RangeIndex: 110527 entries, 0 to 110526\n",
      "Data columns (total 14 columns):\n",
      "PatientId         110527 non-null float64\n",
      "AppointmentID     110527 non-null int64\n",
      "Gender            110527 non-null object\n",
      "ScheduledDay      110527 non-null object\n",
      "AppointmentDay    110527 non-null object\n",
      "Age               110527 non-null int64\n",
      "Neighbourhood     110527 non-null object\n",
      "Scholarship       110527 non-null int64\n",
      "Hipertension      110527 non-null int64\n",
      "Diabetes          110527 non-null int64\n",
      "Alcoholism        110527 non-null int64\n",
      "Handcap           110527 non-null int64\n",
      "SMS_received      110527 non-null int64\n",
      "No-show           110527 non-null object\n",
      "dtypes: float64(1), int64(8), object(5)\n",
      "memory usage: 11.8+ MB\n"
     ]
    }
   ],
   "source": [
    "df.info()"
   ]
  },
  {
   "cell_type": "markdown",
   "metadata": {},
   "source": [
    "We can see that the dataset is complete with no missing or null values. However, it looks like the 2 date columns \"Scheduled Day\" and \"Appointment Day\" need to be mapped to the correct data type which is *datetime*. Also, \"Patient ID\" is set to *float* so we need to change the data type for this column to *int* and we'll need to fix the column names, to have some consistency and to make them easier to remember when working on the next analysis steps.  \n",
    "One more check we're going to do is the count of unique values to make sure our assumptions about the flag columns are valid."
   ]
  },
  {
   "cell_type": "code",
   "execution_count": 77,
   "metadata": {},
   "outputs": [
    {
     "data": {
      "text/plain": [
       "PatientId          62299\n",
       "AppointmentID     110527\n",
       "Gender                 2\n",
       "ScheduledDay      103549\n",
       "AppointmentDay        27\n",
       "Age                  104\n",
       "Neighbourhood         81\n",
       "Scholarship            2\n",
       "Hipertension           2\n",
       "Diabetes               2\n",
       "Alcoholism             2\n",
       "Handcap                5\n",
       "SMS_received           2\n",
       "No-show                2\n",
       "dtype: int64"
      ]
     },
     "execution_count": 77,
     "metadata": {},
     "output_type": "execute_result"
    }
   ],
   "source": [
    "df.nunique()"
   ]
  },
  {
   "cell_type": "markdown",
   "metadata": {},
   "source": [
    "Looking at the unique values for each column, it seems like the Handicap column has 5 values which is not expected since this is a flag column with 0 which indicates the patient is not handicapped and 1 which indicates that the patient is handicapped. However, based on the value counts it seems like most of the dataset is flagged as 0 so we're going to focus on investigating the other independent variables apart from the Hadicap column."
   ]
  },
  {
   "cell_type": "code",
   "execution_count": 78,
   "metadata": {},
   "outputs": [
    {
     "data": {
      "text/plain": [
       "0    108286\n",
       "1      2042\n",
       "2       183\n",
       "3        13\n",
       "4         3\n",
       "Name: Handcap, dtype: int64"
      ]
     },
     "execution_count": 78,
     "metadata": {},
     "output_type": "execute_result"
    }
   ],
   "source": [
    "df.Handcap.value_counts()"
   ]
  },
  {
   "cell_type": "markdown",
   "metadata": {},
   "source": [
    "### Adjusting Column Names\n",
    "\n",
    "We will start cleaning the dataset by applying two changes to the column names. First, we'll replace all the '-' occurences with '_' and change the case to lowercase. The second change is adjusting some column names to fix some spelling errors."
   ]
  },
  {
   "cell_type": "code",
   "execution_count": 79,
   "metadata": {},
   "outputs": [
    {
     "data": {
      "text/html": [
       "<div>\n",
       "<style scoped>\n",
       "    .dataframe tbody tr th:only-of-type {\n",
       "        vertical-align: middle;\n",
       "    }\n",
       "\n",
       "    .dataframe tbody tr th {\n",
       "        vertical-align: top;\n",
       "    }\n",
       "\n",
       "    .dataframe thead th {\n",
       "        text-align: right;\n",
       "    }\n",
       "</style>\n",
       "<table border=\"1\" class=\"dataframe\">\n",
       "  <thead>\n",
       "    <tr style=\"text-align: right;\">\n",
       "      <th></th>\n",
       "      <th>patient_id</th>\n",
       "      <th>appointment_id</th>\n",
       "      <th>gender</th>\n",
       "      <th>scheduled_day</th>\n",
       "      <th>appointment_day</th>\n",
       "      <th>age</th>\n",
       "      <th>neighbourhood</th>\n",
       "      <th>scholarship</th>\n",
       "      <th>hypertension</th>\n",
       "      <th>diabetes</th>\n",
       "      <th>alcoholism</th>\n",
       "      <th>handicap</th>\n",
       "      <th>sms_received</th>\n",
       "      <th>no_show</th>\n",
       "    </tr>\n",
       "  </thead>\n",
       "  <tbody>\n",
       "    <tr>\n",
       "      <th>0</th>\n",
       "      <td>2.987250e+13</td>\n",
       "      <td>5642903</td>\n",
       "      <td>F</td>\n",
       "      <td>2016-04-29T18:38:08Z</td>\n",
       "      <td>2016-04-29T00:00:00Z</td>\n",
       "      <td>62</td>\n",
       "      <td>JARDIM DA PENHA</td>\n",
       "      <td>0</td>\n",
       "      <td>1</td>\n",
       "      <td>0</td>\n",
       "      <td>0</td>\n",
       "      <td>0</td>\n",
       "      <td>0</td>\n",
       "      <td>No</td>\n",
       "    </tr>\n",
       "  </tbody>\n",
       "</table>\n",
       "</div>"
      ],
      "text/plain": [
       "     patient_id  appointment_id gender         scheduled_day  \\\n",
       "0  2.987250e+13         5642903      F  2016-04-29T18:38:08Z   \n",
       "\n",
       "        appointment_day  age    neighbourhood  scholarship  hypertension  \\\n",
       "0  2016-04-29T00:00:00Z   62  JARDIM DA PENHA            0             1   \n",
       "\n",
       "   diabetes  alcoholism  handicap  sms_received no_show  \n",
       "0         0           0         0             0      No  "
      ]
     },
     "execution_count": 79,
     "metadata": {},
     "output_type": "execute_result"
    }
   ],
   "source": [
    "#replace - with _ in column names + and change all column names to lowercase\n",
    "df.rename(columns=lambda x:x.strip().lower().replace('-','_'), inplace=True)\n",
    "\n",
    "#adjust some column names so they're easier to remember: add _ to seperate words and fix some spelling \n",
    "df.rename(columns={'patientid':'patient_id', 'appointmentid':'appointment_id', 'scheduledday':'scheduled_day', 'appointmentday':'appointment_day', 'hipertension':'hypertension', 'handcap':'handicap'}, inplace=True)\n",
    "\n",
    "#make sure changes are applied as expected\n",
    "df.head(1)"
   ]
  },
  {
   "cell_type": "markdown",
   "metadata": {},
   "source": [
    "### Fixing Data Types\n",
    "\n",
    "Next, we'll change the data types for 'scheduled_day' and 'appointment_day' columns to *datetime*. And 'patient_id' to *int*."
   ]
  },
  {
   "cell_type": "code",
   "execution_count": 80,
   "metadata": {},
   "outputs": [],
   "source": [
    "#first - change data type for days columns to datetime\n",
    "#create a function that takes a date string and change it to datetime object\n",
    "def string_to_date(string):\n",
    "    if string == '':\n",
    "        return None\n",
    "    else:\n",
    "        return dt.strptime(string, '%Y-%m-%dT%H:%M:%SZ')\n",
    "\n",
    "#call the function to apply on all the values in scheduled_day and appointment_day columns\n",
    "df['scheduled_day'] = df.scheduled_day.apply(string_to_date)\n",
    "df['appointment_day'] = df.appointment_day.apply(string_to_date)"
   ]
  },
  {
   "cell_type": "code",
   "execution_count": 81,
   "metadata": {},
   "outputs": [],
   "source": [
    "#second - convert data type for patient id to int\n",
    "#defining a function that takes a number string and change it to an int object\n",
    "def string_to_int(string):\n",
    "    if string == '':\n",
    "        return None\n",
    "    else:\n",
    "        return int(string)\n",
    "    \n",
    "#calling the function to apply it on patient id\n",
    "df['patient_id'] = df.patient_id.apply(string_to_int)"
   ]
  },
  {
   "cell_type": "code",
   "execution_count": 82,
   "metadata": {},
   "outputs": [
    {
     "name": "stdout",
     "output_type": "stream",
     "text": [
      "<class 'pandas.core.frame.DataFrame'>\n",
      "RangeIndex: 110527 entries, 0 to 110526\n",
      "Data columns (total 14 columns):\n",
      "patient_id         110527 non-null int64\n",
      "appointment_id     110527 non-null int64\n",
      "gender             110527 non-null object\n",
      "scheduled_day      110527 non-null datetime64[ns]\n",
      "appointment_day    110527 non-null datetime64[ns]\n",
      "age                110527 non-null int64\n",
      "neighbourhood      110527 non-null object\n",
      "scholarship        110527 non-null int64\n",
      "hypertension       110527 non-null int64\n",
      "diabetes           110527 non-null int64\n",
      "alcoholism         110527 non-null int64\n",
      "handicap           110527 non-null int64\n",
      "sms_received       110527 non-null int64\n",
      "no_show            110527 non-null object\n",
      "dtypes: datetime64[ns](2), int64(9), object(3)\n",
      "memory usage: 11.8+ MB\n"
     ]
    }
   ],
   "source": [
    "#make sure changes are applied as expected\n",
    "df.info()"
   ]
  },
  {
   "cell_type": "markdown",
   "metadata": {},
   "source": [
    "## Fixing the \"No Show\" Column\n",
    "\n",
    "As mentioned earlier, this column indicates if the patient did not show up to the appointment. The unique values are \"*Yes*\" or \"*No*\"."
   ]
  },
  {
   "cell_type": "code",
   "execution_count": 83,
   "metadata": {},
   "outputs": [
    {
     "data": {
      "text/plain": [
       "No     88208\n",
       "Yes    22319\n",
       "Name: no_show, dtype: int64"
      ]
     },
     "execution_count": 83,
     "metadata": {},
     "output_type": "execute_result"
    }
   ],
   "source": [
    "df['no_show'].value_counts()"
   ]
  },
  {
   "cell_type": "markdown",
   "metadata": {},
   "source": [
    "This flagging seems a bit confusing. To avoid confusion and have some consistency we'll change the column name to **show** and change values to 0 and 1.  \n",
    "<b>1</b> should indicate that the patient showed up and <b>0</b> should flag the patient as no-show."
   ]
  },
  {
   "cell_type": "code",
   "execution_count": 84,
   "metadata": {},
   "outputs": [],
   "source": [
    "#change the column name from no_show to show\n",
    "df.rename(columns={'no_show':'show'}, inplace=True)\n",
    "\n",
    "#replace 'Yes' with 0 and 'No' with 1\n",
    "df.show.replace(to_replace=dict(Yes=0, No=1), inplace=True)"
   ]
  },
  {
   "cell_type": "code",
   "execution_count": 85,
   "metadata": {},
   "outputs": [
    {
     "data": {
      "text/plain": [
       "1    88208\n",
       "0    22319\n",
       "Name: show, dtype: int64"
      ]
     },
     "execution_count": 85,
     "metadata": {},
     "output_type": "execute_result"
    }
   ],
   "source": [
    "#checking counts again to make sure values are valid after the change\n",
    "df['show'].value_counts()"
   ]
  },
  {
   "cell_type": "markdown",
   "metadata": {},
   "source": [
    "Now that the dataset looks clean, we can start the analysis. We are interested in exploring and analyzing whether the age or gender can be associated with a person showing up or missing their medical appointment. Also, to answer the question of whether or not it is relevant that the patient that suffers from chronic illnesses such as hypertension or diabetes is more likely to show up to their appointment. Another interesting insight worth exploring would be whether being enrolled in the welfare program might affect the outcome and finally if a patient is more likely to attend the appointment if they recieve an SMS from the clininc/hospital."
   ]
  },
  {
   "cell_type": "markdown",
   "metadata": {},
   "source": [
    "<a id='eda'></a>\n",
    "## Exploratory Data Analysis\n",
    "\n",
    "\n",
    "### Q1. Whether age or gender are associated with showing up to a medical appointment"
   ]
  },
  {
   "cell_type": "markdown",
   "metadata": {},
   "source": [
    "First question we're posing is the relationship between a person's age or gender and showing up or missing their medical appointment. We're going to split the data set into the group that showed up versus the group that missed the appointment and do some comparison between the age distributions and gender."
   ]
  },
  {
   "cell_type": "code",
   "execution_count": 86,
   "metadata": {},
   "outputs": [],
   "source": [
    "df_show = df.show == 1\n",
    "df_no_show = df.show == 0"
   ]
  },
  {
   "cell_type": "code",
   "execution_count": 87,
   "metadata": {},
   "outputs": [
    {
     "data": {
      "text/plain": [
       "37.790064393252315"
      ]
     },
     "execution_count": 87,
     "metadata": {},
     "output_type": "execute_result"
    }
   ],
   "source": [
    "df.age[df_show].mean()"
   ]
  },
  {
   "cell_type": "code",
   "execution_count": 88,
   "metadata": {},
   "outputs": [
    {
     "data": {
      "text/plain": [
       "34.317666562121957"
      ]
     },
     "execution_count": 88,
     "metadata": {},
     "output_type": "execute_result"
    }
   ],
   "source": [
    "df.age[df_no_show].mean()"
   ]
  },
  {
   "cell_type": "markdown",
   "metadata": {},
   "source": [
    "The mean age of the patients that showed up to their appointments is 37.8 while the mean age of the patients that missed the appointments is 34.3 which is a bit lower, but it's not a significant difference."
   ]
  },
  {
   "cell_type": "code",
   "execution_count": 89,
   "metadata": {},
   "outputs": [
    {
     "data": {
      "image/png": "[encoded data removed]",
      "text/plain": [
       "<matplotlib.figure.Figure at 0x7fe78c3127b8>"
      ]
     },
     "metadata": {
      "needs_background": "light"
     },
     "output_type": "display_data"
    }
   ],
   "source": [
    "#comparing the distribution of ages for the patients who showed up and those who missed their appointment\n",
    "df.age[df_show].hist(alpha = 0.5, label='Showed up')\n",
    "df.age[df_no_show].hist(alpha = 0.5, label = 'No Show')\n",
    "plt.legend()\n",
    "plt.xlabel('Age')\n",
    "plt.ylabel('Count')\n",
    "plt.title('Patients Age Distribution');"
   ]
  },
  {
   "cell_type": "markdown",
   "metadata": {},
   "source": [
    "The graph shows that the distribution looks quite similar. One visible difference is that the group that showed up has more infants (aged less than 0) and more elderly patients aging more than 90.  \n",
    "\n",
    "Second, we'll be exploring the gender.  \n",
    "  \n",
    "From the counts below, it appears that there are more females (71840) than males (38687) present in the dataset."
   ]
  },
  {
   "cell_type": "code",
   "execution_count": 90,
   "metadata": {},
   "outputs": [
    {
     "data": {
      "text/plain": [
       "F    71840\n",
       "M    38687\n",
       "Name: gender, dtype: int64"
      ]
     },
     "execution_count": 90,
     "metadata": {},
     "output_type": "execute_result"
    }
   ],
   "source": [
    "#how many females versus males are there in the dataset\n",
    "df['gender'].value_counts()"
   ]
  },
  {
   "cell_type": "markdown",
   "metadata": {},
   "source": [
    "However, almost no difference between males and females that are showing up to their appointments than females as per the calculations and graph below."
   ]
  },
  {
   "cell_type": "code",
   "execution_count": 91,
   "metadata": {},
   "outputs": [
    {
     "data": {
      "text/plain": [
       "gender\n",
       "F    0.796854\n",
       "M    0.800321\n",
       "Name: show, dtype: float64"
      ]
     },
     "execution_count": 91,
     "metadata": {},
     "output_type": "execute_result"
    }
   ],
   "source": [
    "df.groupby('gender').show.mean()"
   ]
  },
  {
   "cell_type": "code",
   "execution_count": 92,
   "metadata": {},
   "outputs": [
    {
     "data": {
      "image/png": "[encoded data removed]",
      "text/plain": [
       "<matplotlib.figure.Figure at 0x7fe7890216d8>"
      ]
     },
     "metadata": {
      "needs_background": "light"
     },
     "output_type": "display_data"
    }
   ],
   "source": [
    "#plot comparing the genders of the patients who showed up\n",
    "fig, ax = plt.subplots()\n",
    "df.groupby('gender').show.mean().plot(kind='bar',ax=ax, alpha=0.7)\n",
    "plt.xlabel('Gender')\n",
    "plt.ylabel('Mean')\n",
    "plt.title('Mean Attendance Based on Gender')\n",
    "ax.grid();"
   ]
  },
  {
   "cell_type": "markdown",
   "metadata": {},
   "source": [
    "### Q2. Are patients with scholarships more likely to attend their medical appointments?\n",
    "\n",
    "First, we want to explore the ratio between patients within the dataset who are enrolled in the welfare program to receive a scholarship and patients who are not enrolled. "
   ]
  },
  {
   "cell_type": "code",
   "execution_count": 93,
   "metadata": {},
   "outputs": [
    {
     "data": {
      "image/png": "[encoded data removed]",
      "text/plain": [
       "<matplotlib.figure.Figure at 0x7fe7891c6828>"
      ]
     },
     "metadata": {},
     "output_type": "display_data"
    }
   ],
   "source": [
    "df['scholarship'].value_counts().plot(kind='pie',figsize=(5,5), title='Count of patients who are enrolled in the welfare program versus not enrolled')\n",
    "plt.legend(labels=df['scholarship'].value_counts(), loc=\"best\");"
   ]
  },
  {
   "cell_type": "markdown",
   "metadata": {},
   "source": [
    "Out of 110527 patients, only 10861 are enrolled. Being enrolled in a welfare program seems to be a characteristic that only a few number of the whole population is having. And based on the below calculations and graph, looks like the patients that were not enrolled in the program (did not receive a scholarship) were showing up to their medical appointments more than others that were enrolled."
   ]
  },
  {
   "cell_type": "code",
   "execution_count": 94,
   "metadata": {},
   "outputs": [
    {
     "data": {
      "text/plain": [
       "scholarship\n",
       "0    0.801928\n",
       "1    0.762637\n",
       "Name: show, dtype: float64"
      ]
     },
     "execution_count": 94,
     "metadata": {},
     "output_type": "execute_result"
    }
   ],
   "source": [
    "df.groupby('scholarship').show.mean()"
   ]
  },
  {
   "cell_type": "code",
   "execution_count": 95,
   "metadata": {},
   "outputs": [
    {
     "data": {
      "image/png": "[encoded data removed]",
      "text/plain": [
       "<matplotlib.figure.Figure at 0x7fe7890ba3c8>"
      ]
     },
     "metadata": {
      "needs_background": "light"
     },
     "output_type": "display_data"
    }
   ],
   "source": [
    "fig, ax = plt.subplots()\n",
    "df.groupby('scholarship').show.mean().plot(kind='bar',ax=ax, alpha=0.7)\n",
    "plt.xlabel('Enrolled')\n",
    "plt.ylabel('Mean')\n",
    "plt.title('Mean Attendance Based on Welfare Program Enrollment')\n",
    "ax.grid();"
   ]
  },
  {
   "cell_type": "markdown",
   "metadata": {},
   "source": [
    "### Q3. Do patients who receive SMSs more likely to show up to the medical appointment?"
   ]
  },
  {
   "cell_type": "markdown",
   "metadata": {},
   "source": [
    "A good number of patients - 75045 to be exact, have received at least one SMS as a reminder of their medical appointment as shown in the pie chart below."
   ]
  },
  {
   "cell_type": "code",
   "execution_count": 96,
   "metadata": {},
   "outputs": [
    {
     "data": {
      "image/png": "[encoded data removed]",
      "text/plain": [
       "<matplotlib.figure.Figure at 0x7fe789131be0>"
      ]
     },
     "metadata": {},
     "output_type": "display_data"
    }
   ],
   "source": [
    "df['sms_received'].value_counts().plot(kind='pie',figsize=(5,5), title='Count of patients who did versus did not receive SMS')\n",
    "plt.legend(labels=df['sms_received'].value_counts(), loc=\"best\");"
   ]
  },
  {
   "cell_type": "markdown",
   "metadata": {},
   "source": [
    "However, it seems that the rate of attendance is still lower even after receiving an SMS. There might be an issue with the phone numbers that are registered under the patients' names, this is a limitation in the dataset as it does not show the numbers to check if that data is correct."
   ]
  },
  {
   "cell_type": "code",
   "execution_count": 97,
   "metadata": {},
   "outputs": [
    {
     "data": {
      "text/plain": [
       "0.29133411935425357"
      ]
     },
     "execution_count": 97,
     "metadata": {},
     "output_type": "execute_result"
    }
   ],
   "source": [
    "#average of showing up to the appointment given that at least 1 SMS was receieved\n",
    "df.sms_received[df_show].mean()"
   ]
  },
  {
   "cell_type": "code",
   "execution_count": 98,
   "metadata": {},
   "outputs": [
    {
     "data": {
      "text/plain": [
       "0.43837089475334917"
      ]
     },
     "execution_count": 98,
     "metadata": {},
     "output_type": "execute_result"
    }
   ],
   "source": [
    "#average of NOT showing up to the appointment given that at least 1 SMS was receieved\n",
    "df.sms_received[df_no_show].mean()"
   ]
  },
  {
   "cell_type": "markdown",
   "metadata": {},
   "source": [
    "The graph below also illustrates the same."
   ]
  },
  {
   "cell_type": "code",
   "execution_count": 99,
   "metadata": {},
   "outputs": [
    {
     "data": {
      "image/png": "[encoded data removed]",
      "text/plain": [
       "<matplotlib.figure.Figure at 0x7fe7890c8cf8>"
      ]
     },
     "metadata": {
      "needs_background": "light"
     },
     "output_type": "display_data"
    }
   ],
   "source": [
    "fig, ax = plt.subplots()\n",
    "df.groupby('sms_received').show.mean().plot(kind='bar',ax=ax,alpha=0.7)\n",
    "plt.xlabel('Received SMS')\n",
    "plt.ylabel('Mean')\n",
    "plt.title('Mean Attendance Based on receiving an SMS Reminder')\n",
    "ax.grid();"
   ]
  },
  {
   "cell_type": "markdown",
   "metadata": {},
   "source": [
    "### Q4. Whether showing up to the medical appointment is associated with patients suffering from specific illnesses or chronic diseases?  \n"
   ]
  },
  {
   "cell_type": "code",
   "execution_count": 100,
   "metadata": {},
   "outputs": [
    {
     "data": {
      "image/png": "[encoded data removed]",
      "text/plain": [
       "<matplotlib.figure.Figure at 0x7fe788dd3dd8>"
      ]
     },
     "metadata": {
      "needs_background": "light"
     },
     "output_type": "display_data"
    }
   ],
   "source": [
    "fig, ax = plt.subplots()\n",
    "df.groupby('hypertension').show.mean().plot(kind='bar',ax=ax,alpha=0.7)\n",
    "plt.xlabel('Hypertension')\n",
    "plt.ylabel('Mean')\n",
    "plt.title('Mean Attendance of patients suffering from hypertension versus patients who are not')\n",
    "ax.grid();"
   ]
  },
  {
   "cell_type": "code",
   "execution_count": 101,
   "metadata": {},
   "outputs": [
    {
     "data": {
      "image/png": "[encoded data removed]",
      "text/plain": [
       "<matplotlib.figure.Figure at 0x7fe788fc7e10>"
      ]
     },
     "metadata": {
      "needs_background": "light"
     },
     "output_type": "display_data"
    }
   ],
   "source": [
    "fig, ax = plt.subplots()\n",
    "df.groupby('diabetes').show.mean().plot(kind='bar',ax=ax,alpha=0.7)\n",
    "plt.xlabel('Diabetes')\n",
    "plt.ylabel('Mean')\n",
    "plt.title('Mean Attendance of patients suffering from diabetes versus patients who are not')\n",
    "ax.grid();"
   ]
  },
  {
   "cell_type": "markdown",
   "metadata": {},
   "source": [
    "As per the graphs illustrated above, we can see that the patients suffering from hypertension are more likely to show up to their medical appointments than other who are not. Similarly, a higher percentage of the attendance was by people who are suffering from diabetes."
   ]
  },
  {
   "cell_type": "markdown",
   "metadata": {},
   "source": [
    "### Q5. If number of days between scheduling the appointment and the actual appointment day is related to showing up or missing the appointment?  \n",
    "\n",
    "Using the dates given in the dataset we can calculate the difference in days between the scheduled day and the actual appointment day to be able to find out the number of days between the patient calling to schedule an appointment and showing up to the appointment. This is a derived column that we added to the dataframe before exploring the distribution as shown in the graph below."
   ]
  },
  {
   "cell_type": "code",
   "execution_count": 102,
   "metadata": {},
   "outputs": [
    {
     "data": {
      "text/html": [
       "<div>\n",
       "<style scoped>\n",
       "    .dataframe tbody tr th:only-of-type {\n",
       "        vertical-align: middle;\n",
       "    }\n",
       "\n",
       "    .dataframe tbody tr th {\n",
       "        vertical-align: top;\n",
       "    }\n",
       "\n",
       "    .dataframe thead th {\n",
       "        text-align: right;\n",
       "    }\n",
       "</style>\n",
       "<table border=\"1\" class=\"dataframe\">\n",
       "  <thead>\n",
       "    <tr style=\"text-align: right;\">\n",
       "      <th></th>\n",
       "      <th>patient_id</th>\n",
       "      <th>appointment_id</th>\n",
       "      <th>gender</th>\n",
       "      <th>scheduled_day</th>\n",
       "      <th>appointment_day</th>\n",
       "      <th>age</th>\n",
       "      <th>neighbourhood</th>\n",
       "      <th>scholarship</th>\n",
       "      <th>hypertension</th>\n",
       "      <th>diabetes</th>\n",
       "      <th>alcoholism</th>\n",
       "      <th>handicap</th>\n",
       "      <th>sms_received</th>\n",
       "      <th>show</th>\n",
       "      <th>diff_days</th>\n",
       "    </tr>\n",
       "  </thead>\n",
       "  <tbody>\n",
       "    <tr>\n",
       "      <th>0</th>\n",
       "      <td>29872499824296</td>\n",
       "      <td>5642903</td>\n",
       "      <td>F</td>\n",
       "      <td>2016-04-29 18:38:08</td>\n",
       "      <td>2016-04-29</td>\n",
       "      <td>62</td>\n",
       "      <td>JARDIM DA PENHA</td>\n",
       "      <td>0</td>\n",
       "      <td>1</td>\n",
       "      <td>0</td>\n",
       "      <td>0</td>\n",
       "      <td>0</td>\n",
       "      <td>0</td>\n",
       "      <td>1</td>\n",
       "      <td>0</td>\n",
       "    </tr>\n",
       "  </tbody>\n",
       "</table>\n",
       "</div>"
      ],
      "text/plain": [
       "       patient_id  appointment_id gender       scheduled_day appointment_day  \\\n",
       "0  29872499824296         5642903      F 2016-04-29 18:38:08      2016-04-29   \n",
       "\n",
       "   age    neighbourhood  scholarship  hypertension  diabetes  alcoholism  \\\n",
       "0   62  JARDIM DA PENHA            0             1         0           0   \n",
       "\n",
       "   handicap  sms_received  show  diff_days  \n",
       "0         0             0     1          0  "
      ]
     },
     "execution_count": 102,
     "metadata": {},
     "output_type": "execute_result"
    }
   ],
   "source": [
    "#calculating the difference in days\n",
    "df['diff_days'] = df['appointment_day'].dt.date - df['scheduled_day'].dt.date\n",
    "df['diff_days']=(df['diff_days']/np.timedelta64(1,'D')).astype(int)\n",
    "df.head(1)"
   ]
  },
  {
   "cell_type": "code",
   "execution_count": 103,
   "metadata": {},
   "outputs": [
    {
     "data": {
      "image/png": "[encoded data removed]",
      "text/plain": [
       "<matplotlib.figure.Figure at 0x7fe785a10748>"
      ]
     },
     "metadata": {
      "needs_background": "light"
     },
     "output_type": "display_data"
    }
   ],
   "source": [
    "#comparing the distribution of days between the appointment date and scheduled date\n",
    "#for the patients who showed up versus those who missed their appointment\n",
    "df.diff_days[df_show].hist(alpha = 0.5, label='Showed up',bins=np.arange(0,100,10))\n",
    "df.diff_days[df_no_show].hist(alpha = 0.5, label = 'No Show',bins=np.arange(0,100,10))\n",
    "plt.legend()\n",
    "plt.xlabel('Difference between Appointment Date and Scheduled Date')\n",
    "plt.ylabel('Count')\n",
    "plt.title('Difference in Days Distribution');"
   ]
  },
  {
   "cell_type": "markdown",
   "metadata": {},
   "source": [
    "We can see in the above distribution that most patients that showed up, scheduled the appointment on the same day or up to around 10 days in advance. Patients who had a longer time between scheduled day and appointment day were showing up less to their appointments."
   ]
  },
  {
   "cell_type": "markdown",
   "metadata": {},
   "source": [
    "### Q6. Relationship between the number of appointments the patient has booked and showing up or missing the appointments"
   ]
  },
  {
   "cell_type": "markdown",
   "metadata": {},
   "source": [
    "Finally, we will explore the frequency by which the patients booked medical appointments and whether the patients who booked more appointments actually showed higher attendance levels than patients who were not booking appointments as frequently.  \n",
    "\n",
    "Frequency was calculated by grouping the records with the same patient ID and adding this column to the dataframe."
   ]
  },
  {
   "cell_type": "code",
   "execution_count": 104,
   "metadata": {},
   "outputs": [],
   "source": [
    "#in this step we counted the frequency of patient visits and created a new dataframe with a new frequency column\n",
    "df_final = df.groupby('patient_id')['show'].count().reset_index(name=\"frequency\").merge(df,on='patient_id',how='inner')"
   ]
  },
  {
   "cell_type": "code",
   "execution_count": 105,
   "metadata": {},
   "outputs": [
    {
     "data": {
      "text/html": [
       "<div>\n",
       "<style scoped>\n",
       "    .dataframe tbody tr th:only-of-type {\n",
       "        vertical-align: middle;\n",
       "    }\n",
       "\n",
       "    .dataframe tbody tr th {\n",
       "        vertical-align: top;\n",
       "    }\n",
       "\n",
       "    .dataframe thead th {\n",
       "        text-align: right;\n",
       "    }\n",
       "</style>\n",
       "<table border=\"1\" class=\"dataframe\">\n",
       "  <thead>\n",
       "    <tr style=\"text-align: right;\">\n",
       "      <th></th>\n",
       "      <th>patient_id</th>\n",
       "      <th>frequency</th>\n",
       "      <th>appointment_id</th>\n",
       "      <th>gender</th>\n",
       "      <th>scheduled_day</th>\n",
       "      <th>appointment_day</th>\n",
       "      <th>age</th>\n",
       "      <th>neighbourhood</th>\n",
       "      <th>scholarship</th>\n",
       "      <th>hypertension</th>\n",
       "      <th>diabetes</th>\n",
       "      <th>alcoholism</th>\n",
       "      <th>handicap</th>\n",
       "      <th>sms_received</th>\n",
       "      <th>show</th>\n",
       "      <th>diff_days</th>\n",
       "    </tr>\n",
       "  </thead>\n",
       "  <tbody>\n",
       "    <tr>\n",
       "      <th>110501</th>\n",
       "      <td>999627467948438</td>\n",
       "      <td>4</td>\n",
       "      <td>5665425</td>\n",
       "      <td>M</td>\n",
       "      <td>2016-05-05 14:25:34</td>\n",
       "      <td>2016-05-09</td>\n",
       "      <td>77</td>\n",
       "      <td>PIEDADE</td>\n",
       "      <td>0</td>\n",
       "      <td>1</td>\n",
       "      <td>1</td>\n",
       "      <td>0</td>\n",
       "      <td>0</td>\n",
       "      <td>0</td>\n",
       "      <td>1</td>\n",
       "      <td>4</td>\n",
       "    </tr>\n",
       "    <tr>\n",
       "      <th>110502</th>\n",
       "      <td>999627467948438</td>\n",
       "      <td>4</td>\n",
       "      <td>5697831</td>\n",
       "      <td>M</td>\n",
       "      <td>2016-05-14 09:46:29</td>\n",
       "      <td>2016-05-16</td>\n",
       "      <td>77</td>\n",
       "      <td>PIEDADE</td>\n",
       "      <td>0</td>\n",
       "      <td>1</td>\n",
       "      <td>1</td>\n",
       "      <td>0</td>\n",
       "      <td>0</td>\n",
       "      <td>0</td>\n",
       "      <td>0</td>\n",
       "      <td>2</td>\n",
       "    </tr>\n",
       "    <tr>\n",
       "      <th>110503</th>\n",
       "      <td>999627467948438</td>\n",
       "      <td>4</td>\n",
       "      <td>5699863</td>\n",
       "      <td>M</td>\n",
       "      <td>2016-05-16 08:54:37</td>\n",
       "      <td>2016-05-16</td>\n",
       "      <td>77</td>\n",
       "      <td>PIEDADE</td>\n",
       "      <td>0</td>\n",
       "      <td>1</td>\n",
       "      <td>1</td>\n",
       "      <td>0</td>\n",
       "      <td>0</td>\n",
       "      <td>0</td>\n",
       "      <td>1</td>\n",
       "      <td>0</td>\n",
       "    </tr>\n",
       "    <tr>\n",
       "      <th>110504</th>\n",
       "      <td>999627467948438</td>\n",
       "      <td>4</td>\n",
       "      <td>5744066</td>\n",
       "      <td>M</td>\n",
       "      <td>2016-05-30 09:46:54</td>\n",
       "      <td>2016-05-30</td>\n",
       "      <td>77</td>\n",
       "      <td>PIEDADE</td>\n",
       "      <td>0</td>\n",
       "      <td>1</td>\n",
       "      <td>1</td>\n",
       "      <td>0</td>\n",
       "      <td>0</td>\n",
       "      <td>0</td>\n",
       "      <td>1</td>\n",
       "      <td>0</td>\n",
       "    </tr>\n",
       "  </tbody>\n",
       "</table>\n",
       "</div>"
      ],
      "text/plain": [
       "             patient_id  frequency  appointment_id gender       scheduled_day  \\\n",
       "110501  999627467948438          4         5665425      M 2016-05-05 14:25:34   \n",
       "110502  999627467948438          4         5697831      M 2016-05-14 09:46:29   \n",
       "110503  999627467948438          4         5699863      M 2016-05-16 08:54:37   \n",
       "110504  999627467948438          4         5744066      M 2016-05-30 09:46:54   \n",
       "\n",
       "       appointment_day  age neighbourhood  scholarship  hypertension  \\\n",
       "110501      2016-05-09   77       PIEDADE            0             1   \n",
       "110502      2016-05-16   77       PIEDADE            0             1   \n",
       "110503      2016-05-16   77       PIEDADE            0             1   \n",
       "110504      2016-05-30   77       PIEDADE            0             1   \n",
       "\n",
       "        diabetes  alcoholism  handicap  sms_received  show  diff_days  \n",
       "110501         1           0         0             0     1          4  \n",
       "110502         1           0         0             0     0          2  \n",
       "110503         1           0         0             0     1          0  \n",
       "110504         1           0         0             0     1          0  "
      ]
     },
     "execution_count": 105,
     "metadata": {},
     "output_type": "execute_result"
    }
   ],
   "source": [
    "#printing one patient to make sure the correct frequency is calculated correctly for that patient\n",
    "df_final.query('patient_id == 999627467948438')"
   ]
  },
  {
   "cell_type": "code",
   "execution_count": 106,
   "metadata": {},
   "outputs": [
    {
     "data": {
      "image/png": "[encoded data removed]",
      "text/plain": [
       "<matplotlib.figure.Figure at 0x7fe788d576a0>"
      ]
     },
     "metadata": {
      "needs_background": "light"
     },
     "output_type": "display_data"
    }
   ],
   "source": [
    "bins_range = np.arange(1,100,5)\n",
    "df_final.frequency[df_show].hist(alpha = 0.5, label='Showed up', bins=bins_range)\n",
    "df_final.frequency[df_no_show].hist(alpha = 0.5, label = 'No Show', bins=bins_range)\n",
    "plt.legend()\n",
    "plt.xlabel('Frequent Patients')\n",
    "plt.ylabel('Count')\n",
    "plt.title('Frequent Patients Distribution');"
   ]
  },
  {
   "cell_type": "markdown",
   "metadata": {},
   "source": [
    "As shown in the graph, frequency ranged from 2-3 bookings to around 20 and some very few patients with around 30, 60 and 80 bookings. However, it seems that patients who had a range from 2 to 10 booked medical appointments with the hospitals/clinics were showing up more to their appointments that patients with a higher number of booked appointments."
   ]
  },
  {
   "cell_type": "markdown",
   "metadata": {},
   "source": [
    "<a id='conclusions'></a>\n",
    "## Conclusions\n",
    "\n",
    "In conclusion, we analyzed the appointments dataset to explore some of the characteristics that may be in common between patients that showed up to their medical appointments and others who did not show up. Based on this analysis, we observed the following:  \n",
    "1- Age distribution between people who showed up and other who did not was quite similar.  \n",
    "2- The attendance of female patients was similar to the proportion of male patients that attended their appointments.  \n",
    "3- Receiving an SMS as a reminder of the appointment did not affect the rate of attendance of patients neither did the fact that they were enrolled to the welfare program or not.  \n",
    "4- It did seem though that the patients suffering from hypertension or diabetes had higher attendance rates.  \n",
    "5- Moreover, higher show up rate was shown with patients who had less time between the date they scheduled their appointment and the actual appointment date.  \n",
    "6- Finally, most of the patients that showed up have booked around 2-5 appointments in total.  \n",
    "  \n",
    "However, there were a number of limitations when analyzing this dataset:  \n",
    "1- The SMS_received flag data tells us that number of attendance is lower even after receiving an SMS. But we're missing more details in terms of when the SMS was sent, maybe the hospitals need to send the SMS closer to the appointment day. Or as mentioned, the number that is registered to this patient to verify that the SMS was sent to the correct number.  \n",
    "2- Most of the data is categorical so we cannot use deeper statistical analysis to investigate relationships.  \n",
    "3- The population is not representitive enough since most of the patients are not enrolled in the welfare program for example, so we cannot use this characteristic to measure it's effect on attending the medical appointments.  \n",
    "4- Handicap flag seemed to have error values so another characteristic that we could not rely on in the analysis of this dataset.  "
   ]
  },
  {
   "cell_type": "code",
   "execution_count": null,
   "metadata": {},
   "outputs": [],
   "source": []
  }
 ],
 "metadata": {
  "kernelspec": {
   "display_name": "Python 3",
   "language": "python",
   "name": "python3"
  },
  "language_info": {
   "codemirror_mode": {
    "name": "ipython",
    "version": 3
   },
   "file_extension": ".py",
   "mimetype": "text/x-python",
   "name": "python",
   "nbconvert_exporter": "python",
   "pygments_lexer": "ipython3",
   "version": "3.6.3"
  }
 },
 "nbformat": 4,
 "nbformat_minor": 2
}
